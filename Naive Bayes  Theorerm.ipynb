{
 "cells": [
  {
   "cell_type": "code",
   "execution_count": 1,
   "id": "61484324",
   "metadata": {},
   "outputs": [],
   "source": [
    "import pandas as pd\n",
    "dataset=pd.read_csv(\"CKD.csv\")"
   ]
  },
  {
   "cell_type": "code",
   "execution_count": 2,
   "id": "7094d4c9",
   "metadata": {},
   "outputs": [],
   "source": [
    "dataset=pd.get_dummies(dataset,drop_first=True)"
   ]
  },
  {
   "cell_type": "code",
   "execution_count": 3,
   "id": "8011e12c",
   "metadata": {},
   "outputs": [],
   "source": [
    "indep=dataset.iloc[:,0:24]\n",
    "dep=dataset['classification_yes']\n"
   ]
  },
  {
   "cell_type": "code",
   "execution_count": 4,
   "id": "20a65d17",
   "metadata": {},
   "outputs": [],
   "source": [
    "from sklearn.model_selection import train_test_split\n",
    "x_train,x_test,y_train,y_test=train_test_split(indep,dep,test_size=1/3,random_state=0)"
   ]
  },
  {
   "cell_type": "code",
   "execution_count": 6,
   "id": "14dee91b",
   "metadata": {},
   "outputs": [
    {
     "name": "stdout",
     "output_type": "stream",
     "text": [
      "              precision    recall  f1-score   support\n",
      "\n",
      "           0       0.68      0.98      0.80        51\n",
      "           1       0.98      0.71      0.82        82\n",
      "\n",
      "    accuracy                           0.81       133\n",
      "   macro avg       0.83      0.84      0.81       133\n",
      "weighted avg       0.87      0.81      0.81       133\n",
      "\n"
     ]
    }
   ],
   "source": [
    "from sklearn.naive_bayes import MultinomialNB\n",
    "classifier = MultinomialNB()\n",
    "classifier.fit(x_train, y_train)\n",
    "y_pred = classifier.predict(x_test)\n",
    "\n",
    "from sklearn.metrics import classification_report\n",
    "clf_report = classification_report(y_test, y_pred)              \n",
    "print(clf_report)\n"
   ]
  },
  {
   "cell_type": "code",
   "execution_count": 8,
   "id": "ca4ff524",
   "metadata": {},
   "outputs": [
    {
     "name": "stdout",
     "output_type": "stream",
     "text": [
      "0.8120300751879699\n"
     ]
    }
   ],
   "source": [
    "from sklearn.metrics import accuracy_score\n",
    "score=accuracy_score(y_test,y_pred)\n",
    "print(score)"
   ]
  },
  {
   "cell_type": "code",
   "execution_count": 11,
   "id": "c9c15c6c",
   "metadata": {},
   "outputs": [
    {
     "name": "stdout",
     "output_type": "stream",
     "text": [
      "0.9139167862266857\n"
     ]
    }
   ],
   "source": [
    "from sklearn.metrics import roc_auc_score\n",
    "re=roc_auc_score(y_test, classifier.predict_proba(x_test)[:, 1])\n",
    "print(re)"
   ]
  },
  {
   "cell_type": "code",
   "execution_count": 13,
   "id": "e6dbbbfc",
   "metadata": {},
   "outputs": [
    {
     "name": "stdout",
     "output_type": "stream",
     "text": [
      "              precision    recall  f1-score   support\n",
      "\n",
      "           0       0.93      1.00      0.96        51\n",
      "           1       1.00      0.95      0.97        82\n",
      "\n",
      "    accuracy                           0.97       133\n",
      "   macro avg       0.96      0.98      0.97       133\n",
      "weighted avg       0.97      0.97      0.97       133\n",
      "\n",
      "0.9699248120300752\n",
      "0.9686320754716982\n",
      "0.9899569583931134\n"
     ]
    }
   ],
   "source": [
    "from sklearn.naive_bayes import BernoulliNB\n",
    "classifier = BernoulliNB()\n",
    "classifier.fit(x_train, y_train)\n",
    "y_pred = classifier.predict(x_test)\n",
    "\n",
    "\n",
    "from sklearn.metrics import classification_report\n",
    "clf_report = classification_report(y_test, y_pred)              \n",
    "print(clf_report)\n",
    "\n",
    "from sklearn.metrics import accuracy_score\n",
    "score=accuracy_score(y_test,y_pred)\n",
    "print(score)\n",
    "\n",
    "from sklearn.metrics import f1_score\n",
    "f1=f1_score(y_test, y_pred, average='macro')\n",
    "print(f1)\n",
    "\n",
    "from sklearn.metrics import roc_auc_score\n",
    "re=roc_auc_score(y_test, classifier.predict_proba(x_test)[:, 1])\n",
    "print(re)"
   ]
  },
  {
   "cell_type": "code",
   "execution_count": null,
   "id": "9912a7b6",
   "metadata": {},
   "outputs": [],
   "source": []
  }
 ],
 "metadata": {
  "kernelspec": {
   "display_name": "Python 3 (ipykernel)",
   "language": "python",
   "name": "python3"
  },
  "language_info": {
   "codemirror_mode": {
    "name": "ipython",
    "version": 3
   },
   "file_extension": ".py",
   "mimetype": "text/x-python",
   "name": "python",
   "nbconvert_exporter": "python",
   "pygments_lexer": "ipython3",
   "version": "3.11.4"
  }
 },
 "nbformat": 4,
 "nbformat_minor": 5
}
